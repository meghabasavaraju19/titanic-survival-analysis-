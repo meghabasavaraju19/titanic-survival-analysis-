{
  "cells": [
    {
      "cell_type": "code",
      "execution_count": 1,
      "id": "ffa8724d",
      "metadata": {
        "_cell_guid": "b1076dfc-b9ad-4769-8c92-a6c4dae69d19",
        "_uuid": "8f2839f25d086af736a60e9eeb907d3b93b6e0e5",
        "execution": {
          "iopub.execute_input": "2022-06-03T14:17:29.782594Z",
          "iopub.status.busy": "2022-06-03T14:17:29.781776Z",
          "iopub.status.idle": "2022-06-03T14:17:29.797564Z",
          "shell.execute_reply": "2022-06-03T14:17:29.796817Z"
        },
        "papermill": {
          "duration": 0.030918,
          "end_time": "2022-06-03T14:17:29.799780",
          "exception": false,
          "start_time": "2022-06-03T14:17:29.768862",
          "status": "completed"
        },
        "tags": [],
        "id": "ffa8724d"
      },
      "outputs": [],
      "source": [
        "# This Python 3 environment comes with many helpful analytics libraries installed\n",
        "# It is defined by the kaggle/python Docker image: https://github.com/kaggle/docker-python\n",
        "# For example, here's several helpful packages to load\n",
        "\n",
        "import numpy as np # linear algebra\n",
        "import pandas as pd # data processing, CSV file I/O (e.g. pd.read_csv)\n",
        "\n",
        "# Input data files are available in the read-only \"../input/\" directory\n",
        "# For example, running this (by clicking run or pressing Shift+Enter) will list all files under the input directory\n",
        "\n",
        "# You can write up to 20GB to the current directory (/kaggle/working/) that gets preserved as output when you create a version using \"Save & Run All\" \n",
        "# You can also write temporary files to /kaggle/temp/, but they won't be saved outside of the current session"
      ]
    },
    {
      "cell_type": "code",
      "source": [
        "from google.colab import files\n",
        "\n",
        "uploaded = files.upload()"
      ],
      "metadata": {
        "colab": {
          "resources": {
            "http://localhost:8080/nbextensions/google.colab/files.js": {
              "data": "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",
              "ok": true,
              "headers": [
                [
                  "content-type",
                  "application/javascript"
                ]
              ],
              "status": 200,
              "status_text": ""
            }
          },
          "base_uri": "https://localhost:8080/",
          "height": 75
        },
        "id": "BMBgpMcKPpO3",
        "outputId": "33d0dd6a-1dfb-4663-e392-2329d80275a2"
      },
      "id": "BMBgpMcKPpO3",
      "execution_count": 8,
      "outputs": [
        {
          "output_type": "display_data",
          "data": {
            "text/plain": [
              "<IPython.core.display.HTML object>"
            ],
            "text/html": [
              "\n",
              "     <input type=\"file\" id=\"files-188fabfc-5027-4c3f-aa2e-220a3cb747d0\" name=\"files[]\" multiple disabled\n",
              "        style=\"border:none\" />\n",
              "     <output id=\"result-188fabfc-5027-4c3f-aa2e-220a3cb747d0\">\n",
              "      Upload widget is only available when the cell has been executed in the\n",
              "      current browser session. Please rerun this cell to enable.\n",
              "      </output>\n",
              "      <script src=\"/nbextensions/google.colab/files.js\"></script> "
            ]
          },
          "metadata": {}
        },
        {
          "output_type": "stream",
          "name": "stdout",
          "text": [
            "Saving test.csv to test.csv\n"
          ]
        }
      ]
    },
    {
      "cell_type": "code",
      "source": [
        "from google.colab import files\n",
        "\n",
        "uploaded2 = files.upload()"
      ],
      "metadata": {
        "colab": {
          "resources": {
            "http://localhost:8080/nbextensions/google.colab/files.js": {
              "data": "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",
              "ok": true,
              "headers": [
                [
                  "content-type",
                  "application/javascript"
                ]
              ],
              "status": 200,
              "status_text": ""
            }
          },
          "base_uri": "https://localhost:8080/",
          "height": 75
        },
        "id": "YN1HJuZ5PpK2",
        "outputId": "133f44e9-a76e-427e-a98e-013207045ac1"
      },
      "id": "YN1HJuZ5PpK2",
      "execution_count": 9,
      "outputs": [
        {
          "output_type": "display_data",
          "data": {
            "text/plain": [
              "<IPython.core.display.HTML object>"
            ],
            "text/html": [
              "\n",
              "     <input type=\"file\" id=\"files-9122fb9b-f27e-49d6-9cbd-c10b87924f72\" name=\"files[]\" multiple disabled\n",
              "        style=\"border:none\" />\n",
              "     <output id=\"result-9122fb9b-f27e-49d6-9cbd-c10b87924f72\">\n",
              "      Upload widget is only available when the cell has been executed in the\n",
              "      current browser session. Please rerun this cell to enable.\n",
              "      </output>\n",
              "      <script src=\"/nbextensions/google.colab/files.js\"></script> "
            ]
          },
          "metadata": {}
        },
        {
          "output_type": "stream",
          "name": "stdout",
          "text": [
            "Saving train.csv to train.csv\n"
          ]
        }
      ]
    },
    {
      "cell_type": "code",
      "source": [
        ""
      ],
      "metadata": {
        "id": "shkynF19PpJi"
      },
      "id": "shkynF19PpJi",
      "execution_count": null,
      "outputs": []
    },
    {
      "cell_type": "code",
      "source": [
        ""
      ],
      "metadata": {
        "id": "qXUMgLCJPo9C"
      },
      "id": "qXUMgLCJPo9C",
      "execution_count": null,
      "outputs": []
    },
    {
      "cell_type": "code",
      "execution_count": 10,
      "id": "3bc170b2",
      "metadata": {
        "execution": {
          "iopub.execute_input": "2022-06-03T14:17:29.821510Z",
          "iopub.status.busy": "2022-06-03T14:17:29.821073Z",
          "iopub.status.idle": "2022-06-03T14:17:29.826079Z",
          "shell.execute_reply": "2022-06-03T14:17:29.824851Z"
        },
        "papermill": {
          "duration": 0.018299,
          "end_time": "2022-06-03T14:17:29.828299",
          "exception": false,
          "start_time": "2022-06-03T14:17:29.810000",
          "status": "completed"
        },
        "tags": [],
        "id": "3bc170b2"
      },
      "outputs": [],
      "source": [
        "TRAIN_PATH=\"train.csv\"\n",
        "TEST_PATH=\"test.csv\""
      ]
    },
    {
      "cell_type": "markdown",
      "id": "2285ba97",
      "metadata": {
        "papermill": {
          "duration": 0.009517,
          "end_time": "2022-06-03T14:17:29.847763",
          "exception": false,
          "start_time": "2022-06-03T14:17:29.838246",
          "status": "completed"
        },
        "tags": [],
        "id": "2285ba97"
      },
      "source": [
        "# **Import Packages**\n"
      ]
    },
    {
      "cell_type": "code",
      "execution_count": 11,
      "id": "97854814",
      "metadata": {
        "execution": {
          "iopub.execute_input": "2022-06-03T14:17:29.869478Z",
          "iopub.status.busy": "2022-06-03T14:17:29.868735Z",
          "iopub.status.idle": "2022-06-03T14:17:31.422315Z",
          "shell.execute_reply": "2022-06-03T14:17:31.421229Z"
        },
        "papermill": {
          "duration": 1.567146,
          "end_time": "2022-06-03T14:17:31.424781",
          "exception": false,
          "start_time": "2022-06-03T14:17:29.857635",
          "status": "completed"
        },
        "tags": [],
        "id": "97854814"
      },
      "outputs": [],
      "source": [
        "import pandas as pd\n",
        "import numpy as np\n",
        "import seaborn as sns\n",
        "from sklearn.model_selection import train_test_split\n",
        "from sklearn.compose import ColumnTransformer\n",
        "from sklearn.pipeline import Pipeline\n",
        "from sklearn.impute import SimpleImputer\n",
        "from sklearn.preprocessing import StandardScaler, OneHotEncoder, OrdinalEncoder\n",
        "from sklearn.ensemble import RandomForestClassifier\n",
        "from sklearn.linear_model import LogisticRegression\n",
        "from sklearn.metrics import accuracy_score\n"
      ]
    },
    {
      "cell_type": "markdown",
      "id": "a3f7d3d2",
      "metadata": {
        "papermill": {
          "duration": 0.009593,
          "end_time": "2022-06-03T14:17:31.444321",
          "exception": false,
          "start_time": "2022-06-03T14:17:31.434728",
          "status": "completed"
        },
        "tags": [],
        "id": "a3f7d3d2"
      },
      "source": [
        "# **Reading Data**"
      ]
    },
    {
      "cell_type": "code",
      "execution_count": 12,
      "id": "e9c0dbaa",
      "metadata": {
        "execution": {
          "iopub.execute_input": "2022-06-03T14:17:31.465985Z",
          "iopub.status.busy": "2022-06-03T14:17:31.465392Z",
          "iopub.status.idle": "2022-06-03T14:17:31.495274Z",
          "shell.execute_reply": "2022-06-03T14:17:31.494511Z"
        },
        "papermill": {
          "duration": 0.043257,
          "end_time": "2022-06-03T14:17:31.497413",
          "exception": false,
          "start_time": "2022-06-03T14:17:31.454156",
          "status": "completed"
        },
        "tags": [],
        "id": "e9c0dbaa"
      },
      "outputs": [],
      "source": [
        "train_data= pd.read_csv(TRAIN_PATH)\n",
        "test_data= pd.read_csv(TEST_PATH)\n"
      ]
    },
    {
      "cell_type": "markdown",
      "id": "a58e5bac",
      "metadata": {
        "papermill": {
          "duration": 0.009594,
          "end_time": "2022-06-03T14:17:31.519317",
          "exception": false,
          "start_time": "2022-06-03T14:17:31.509723",
          "status": "completed"
        },
        "tags": [],
        "id": "a58e5bac"
      },
      "source": [
        "# EDA\n",
        "\n",
        "**Variable Notes**\n",
        "\n",
        "pclass: A proxy for socio-economic status (SES)\n",
        "- 1st = Upper\n",
        "- 2nd = Middle\n",
        "- 3rd = Lower\n",
        "\n",
        "age: Age is fractional if less than 1. If the age is estimated, is it in the form of xx.5\n",
        "\n",
        "sibsp: The dataset defines family relations in this way...\n",
        "- Sibling = brother, sister, stepbrother, stepsister\n",
        "- Spouse = husband, wife (mistresses and fiancés were ignored)\n",
        "\n",
        "parch: The dataset defines family relations in this way...\n",
        "- Parent = mother, father\n",
        "- Child = daughter, son, stepdaughter, stepson\n",
        "- Some children travelled only with a nanny, therefore parch=0 for them."
      ]
    },
    {
      "cell_type": "code",
      "execution_count": 51,
      "id": "67fd5415",
      "metadata": {
        "execution": {
          "iopub.execute_input": "2022-06-03T14:17:31.540603Z",
          "iopub.status.busy": "2022-06-03T14:17:31.540212Z",
          "iopub.status.idle": "2022-06-03T14:17:31.564051Z",
          "shell.execute_reply": "2022-06-03T14:17:31.563339Z"
        },
        "papermill": {
          "duration": 0.036546,
          "end_time": "2022-06-03T14:17:31.565895",
          "exception": false,
          "start_time": "2022-06-03T14:17:31.529349",
          "status": "completed"
        },
        "tags": [],
        "colab": {
          "base_uri": "https://localhost:8080/",
          "height": 363
        },
        "id": "67fd5415",
        "outputId": "0c49d5cf-fb2e-4d2e-c594-82add136dfd7"
      },
      "outputs": [
        {
          "output_type": "execute_result",
          "data": {
            "text/plain": [
              "   PassengerId  Survived  Pclass  \\\n",
              "0            1         0       3   \n",
              "1            2         1       1   \n",
              "2            3         1       3   \n",
              "3            4         1       1   \n",
              "4            5         0       3   \n",
              "5            6         0       3   \n",
              "6            7         0       1   \n",
              "7            8         0       3   \n",
              "8            9         1       3   \n",
              "9           10         1       2   \n",
              "\n",
              "                                                Name     Sex   Age  SibSp  \\\n",
              "0                            Braund, Mr. Owen Harris    male  22.0      1   \n",
              "1  Cumings, Mrs. John Bradley (Florence Briggs Th...  female  38.0      1   \n",
              "2                             Heikkinen, Miss. Laina  female  26.0      0   \n",
              "3       Futrelle, Mrs. Jacques Heath (Lily May Peel)  female  35.0      1   \n",
              "4                           Allen, Mr. William Henry    male  35.0      0   \n",
              "5                                   Moran, Mr. James    male   NaN      0   \n",
              "6                            McCarthy, Mr. Timothy J    male  54.0      0   \n",
              "7                     Palsson, Master. Gosta Leonard    male   2.0      3   \n",
              "8  Johnson, Mrs. Oscar W (Elisabeth Vilhelmina Berg)  female  27.0      0   \n",
              "9                Nasser, Mrs. Nicholas (Adele Achem)  female  14.0      1   \n",
              "\n",
              "   Parch            Ticket     Fare Cabin Embarked  \n",
              "0      0         A/5 21171   7.2500   NaN        S  \n",
              "1      0          PC 17599  71.2833   C85        C  \n",
              "2      0  STON/O2. 3101282   7.9250   NaN        S  \n",
              "3      0            113803  53.1000  C123        S  \n",
              "4      0            373450   8.0500   NaN        S  \n",
              "5      0            330877   8.4583   NaN        Q  \n",
              "6      0             17463  51.8625   E46        S  \n",
              "7      1            349909  21.0750   NaN        S  \n",
              "8      2            347742  11.1333   NaN        S  \n",
              "9      0            237736  30.0708   NaN        C  "
            ],
            "text/html": [
              "\n",
              "  <div id=\"df-230fee1a-dc17-40c3-b0ef-1bb4b8ab1fca\">\n",
              "    <div class=\"colab-df-container\">\n",
              "      <div>\n",
              "<style scoped>\n",
              "    .dataframe tbody tr th:only-of-type {\n",
              "        vertical-align: middle;\n",
              "    }\n",
              "\n",
              "    .dataframe tbody tr th {\n",
              "        vertical-align: top;\n",
              "    }\n",
              "\n",
              "    .dataframe thead th {\n",
              "        text-align: right;\n",
              "    }\n",
              "</style>\n",
              "<table border=\"1\" class=\"dataframe\">\n",
              "  <thead>\n",
              "    <tr style=\"text-align: right;\">\n",
              "      <th></th>\n",
              "      <th>PassengerId</th>\n",
              "      <th>Survived</th>\n",
              "      <th>Pclass</th>\n",
              "      <th>Name</th>\n",
              "      <th>Sex</th>\n",
              "      <th>Age</th>\n",
              "      <th>SibSp</th>\n",
              "      <th>Parch</th>\n",
              "      <th>Ticket</th>\n",
              "      <th>Fare</th>\n",
              "      <th>Cabin</th>\n",
              "      <th>Embarked</th>\n",
              "    </tr>\n",
              "  </thead>\n",
              "  <tbody>\n",
              "    <tr>\n",
              "      <th>0</th>\n",
              "      <td>1</td>\n",
              "      <td>0</td>\n",
              "      <td>3</td>\n",
              "      <td>Braund, Mr. Owen Harris</td>\n",
              "      <td>male</td>\n",
              "      <td>22.0</td>\n",
              "      <td>1</td>\n",
              "      <td>0</td>\n",
              "      <td>A/5 21171</td>\n",
              "      <td>7.2500</td>\n",
              "      <td>NaN</td>\n",
              "      <td>S</td>\n",
              "    </tr>\n",
              "    <tr>\n",
              "      <th>1</th>\n",
              "      <td>2</td>\n",
              "      <td>1</td>\n",
              "      <td>1</td>\n",
              "      <td>Cumings, Mrs. John Bradley (Florence Briggs Th...</td>\n",
              "      <td>female</td>\n",
              "      <td>38.0</td>\n",
              "      <td>1</td>\n",
              "      <td>0</td>\n",
              "      <td>PC 17599</td>\n",
              "      <td>71.2833</td>\n",
              "      <td>C85</td>\n",
              "      <td>C</td>\n",
              "    </tr>\n",
              "    <tr>\n",
              "      <th>2</th>\n",
              "      <td>3</td>\n",
              "      <td>1</td>\n",
              "      <td>3</td>\n",
              "      <td>Heikkinen, Miss. Laina</td>\n",
              "      <td>female</td>\n",
              "      <td>26.0</td>\n",
              "      <td>0</td>\n",
              "      <td>0</td>\n",
              "      <td>STON/O2. 3101282</td>\n",
              "      <td>7.9250</td>\n",
              "      <td>NaN</td>\n",
              "      <td>S</td>\n",
              "    </tr>\n",
              "    <tr>\n",
              "      <th>3</th>\n",
              "      <td>4</td>\n",
              "      <td>1</td>\n",
              "      <td>1</td>\n",
              "      <td>Futrelle, Mrs. Jacques Heath (Lily May Peel)</td>\n",
              "      <td>female</td>\n",
              "      <td>35.0</td>\n",
              "      <td>1</td>\n",
              "      <td>0</td>\n",
              "      <td>113803</td>\n",
              "      <td>53.1000</td>\n",
              "      <td>C123</td>\n",
              "      <td>S</td>\n",
              "    </tr>\n",
              "    <tr>\n",
              "      <th>4</th>\n",
              "      <td>5</td>\n",
              "      <td>0</td>\n",
              "      <td>3</td>\n",
              "      <td>Allen, Mr. William Henry</td>\n",
              "      <td>male</td>\n",
              "      <td>35.0</td>\n",
              "      <td>0</td>\n",
              "      <td>0</td>\n",
              "      <td>373450</td>\n",
              "      <td>8.0500</td>\n",
              "      <td>NaN</td>\n",
              "      <td>S</td>\n",
              "    </tr>\n",
              "    <tr>\n",
              "      <th>5</th>\n",
              "      <td>6</td>\n",
              "      <td>0</td>\n",
              "      <td>3</td>\n",
              "      <td>Moran, Mr. James</td>\n",
              "      <td>male</td>\n",
              "      <td>NaN</td>\n",
              "      <td>0</td>\n",
              "      <td>0</td>\n",
              "      <td>330877</td>\n",
              "      <td>8.4583</td>\n",
              "      <td>NaN</td>\n",
              "      <td>Q</td>\n",
              "    </tr>\n",
              "    <tr>\n",
              "      <th>6</th>\n",
              "      <td>7</td>\n",
              "      <td>0</td>\n",
              "      <td>1</td>\n",
              "      <td>McCarthy, Mr. Timothy J</td>\n",
              "      <td>male</td>\n",
              "      <td>54.0</td>\n",
              "      <td>0</td>\n",
              "      <td>0</td>\n",
              "      <td>17463</td>\n",
              "      <td>51.8625</td>\n",
              "      <td>E46</td>\n",
              "      <td>S</td>\n",
              "    </tr>\n",
              "    <tr>\n",
              "      <th>7</th>\n",
              "      <td>8</td>\n",
              "      <td>0</td>\n",
              "      <td>3</td>\n",
              "      <td>Palsson, Master. Gosta Leonard</td>\n",
              "      <td>male</td>\n",
              "      <td>2.0</td>\n",
              "      <td>3</td>\n",
              "      <td>1</td>\n",
              "      <td>349909</td>\n",
              "      <td>21.0750</td>\n",
              "      <td>NaN</td>\n",
              "      <td>S</td>\n",
              "    </tr>\n",
              "    <tr>\n",
              "      <th>8</th>\n",
              "      <td>9</td>\n",
              "      <td>1</td>\n",
              "      <td>3</td>\n",
              "      <td>Johnson, Mrs. Oscar W (Elisabeth Vilhelmina Berg)</td>\n",
              "      <td>female</td>\n",
              "      <td>27.0</td>\n",
              "      <td>0</td>\n",
              "      <td>2</td>\n",
              "      <td>347742</td>\n",
              "      <td>11.1333</td>\n",
              "      <td>NaN</td>\n",
              "      <td>S</td>\n",
              "    </tr>\n",
              "    <tr>\n",
              "      <th>9</th>\n",
              "      <td>10</td>\n",
              "      <td>1</td>\n",
              "      <td>2</td>\n",
              "      <td>Nasser, Mrs. Nicholas (Adele Achem)</td>\n",
              "      <td>female</td>\n",
              "      <td>14.0</td>\n",
              "      <td>1</td>\n",
              "      <td>0</td>\n",
              "      <td>237736</td>\n",
              "      <td>30.0708</td>\n",
              "      <td>NaN</td>\n",
              "      <td>C</td>\n",
              "    </tr>\n",
              "  </tbody>\n",
              "</table>\n",
              "</div>\n",
              "      <button class=\"colab-df-convert\" onclick=\"convertToInteractive('df-230fee1a-dc17-40c3-b0ef-1bb4b8ab1fca')\"\n",
              "              title=\"Convert this dataframe to an interactive table.\"\n",
              "              style=\"display:none;\">\n",
              "        \n",
              "  <svg xmlns=\"http://www.w3.org/2000/svg\" height=\"24px\"viewBox=\"0 0 24 24\"\n",
              "       width=\"24px\">\n",
              "    <path d=\"M0 0h24v24H0V0z\" fill=\"none\"/>\n",
              "    <path d=\"M18.56 5.44l.94 2.06.94-2.06 2.06-.94-2.06-.94-.94-2.06-.94 2.06-2.06.94zm-11 1L8.5 8.5l.94-2.06 2.06-.94-2.06-.94L8.5 2.5l-.94 2.06-2.06.94zm10 10l.94 2.06.94-2.06 2.06-.94-2.06-.94-.94-2.06-.94 2.06-2.06.94z\"/><path d=\"M17.41 7.96l-1.37-1.37c-.4-.4-.92-.59-1.43-.59-.52 0-1.04.2-1.43.59L10.3 9.45l-7.72 7.72c-.78.78-.78 2.05 0 2.83L4 21.41c.39.39.9.59 1.41.59.51 0 1.02-.2 1.41-.59l7.78-7.78 2.81-2.81c.8-.78.8-2.07 0-2.86zM5.41 20L4 18.59l7.72-7.72 1.47 1.35L5.41 20z\"/>\n",
              "  </svg>\n",
              "      </button>\n",
              "      \n",
              "  <style>\n",
              "    .colab-df-container {\n",
              "      display:flex;\n",
              "      flex-wrap:wrap;\n",
              "      gap: 12px;\n",
              "    }\n",
              "\n",
              "    .colab-df-convert {\n",
              "      background-color: #E8F0FE;\n",
              "      border: none;\n",
              "      border-radius: 50%;\n",
              "      cursor: pointer;\n",
              "      display: none;\n",
              "      fill: #1967D2;\n",
              "      height: 32px;\n",
              "      padding: 0 0 0 0;\n",
              "      width: 32px;\n",
              "    }\n",
              "\n",
              "    .colab-df-convert:hover {\n",
              "      background-color: #E2EBFA;\n",
              "      box-shadow: 0px 1px 2px rgba(60, 64, 67, 0.3), 0px 1px 3px 1px rgba(60, 64, 67, 0.15);\n",
              "      fill: #174EA6;\n",
              "    }\n",
              "\n",
              "    [theme=dark] .colab-df-convert {\n",
              "      background-color: #3B4455;\n",
              "      fill: #D2E3FC;\n",
              "    }\n",
              "\n",
              "    [theme=dark] .colab-df-convert:hover {\n",
              "      background-color: #434B5C;\n",
              "      box-shadow: 0px 1px 3px 1px rgba(0, 0, 0, 0.15);\n",
              "      filter: drop-shadow(0px 1px 2px rgba(0, 0, 0, 0.3));\n",
              "      fill: #FFFFFF;\n",
              "    }\n",
              "  </style>\n",
              "\n",
              "      <script>\n",
              "        const buttonEl =\n",
              "          document.querySelector('#df-230fee1a-dc17-40c3-b0ef-1bb4b8ab1fca button.colab-df-convert');\n",
              "        buttonEl.style.display =\n",
              "          google.colab.kernel.accessAllowed ? 'block' : 'none';\n",
              "\n",
              "        async function convertToInteractive(key) {\n",
              "          const element = document.querySelector('#df-230fee1a-dc17-40c3-b0ef-1bb4b8ab1fca');\n",
              "          const dataTable =\n",
              "            await google.colab.kernel.invokeFunction('convertToInteractive',\n",
              "                                                     [key], {});\n",
              "          if (!dataTable) return;\n",
              "\n",
              "          const docLinkHtml = 'Like what you see? Visit the ' +\n",
              "            '<a target=\"_blank\" href=https://colab.research.google.com/notebooks/data_table.ipynb>data table notebook</a>'\n",
              "            + ' to learn more about interactive tables.';\n",
              "          element.innerHTML = '';\n",
              "          dataTable['output_type'] = 'display_data';\n",
              "          await google.colab.output.renderOutput(dataTable, element);\n",
              "          const docLink = document.createElement('div');\n",
              "          docLink.innerHTML = docLinkHtml;\n",
              "          element.appendChild(docLink);\n",
              "        }\n",
              "      </script>\n",
              "    </div>\n",
              "  </div>\n",
              "  "
            ]
          },
          "metadata": {},
          "execution_count": 51
        }
      ],
      "source": [
        "train_data.head(10)"
      ]
    },
    {
      "cell_type": "code",
      "execution_count": 14,
      "id": "3a9cb85b",
      "metadata": {
        "execution": {
          "iopub.execute_input": "2022-06-03T14:17:31.588149Z",
          "iopub.status.busy": "2022-06-03T14:17:31.587277Z",
          "iopub.status.idle": "2022-06-03T14:17:31.613186Z",
          "shell.execute_reply": "2022-06-03T14:17:31.612109Z"
        },
        "papermill": {
          "duration": 0.039265,
          "end_time": "2022-06-03T14:17:31.615371",
          "exception": false,
          "start_time": "2022-06-03T14:17:31.576106",
          "status": "completed"
        },
        "tags": [],
        "colab": {
          "base_uri": "https://localhost:8080/"
        },
        "id": "3a9cb85b",
        "outputId": "50dc1f24-25de-4393-9007-54c3f012e564"
      },
      "outputs": [
        {
          "output_type": "stream",
          "name": "stdout",
          "text": [
            "<class 'pandas.core.frame.DataFrame'>\n",
            "RangeIndex: 891 entries, 0 to 890\n",
            "Data columns (total 12 columns):\n",
            " #   Column       Non-Null Count  Dtype  \n",
            "---  ------       --------------  -----  \n",
            " 0   PassengerId  891 non-null    int64  \n",
            " 1   Survived     891 non-null    int64  \n",
            " 2   Pclass       891 non-null    int64  \n",
            " 3   Name         891 non-null    object \n",
            " 4   Sex          891 non-null    object \n",
            " 5   Age          714 non-null    float64\n",
            " 6   SibSp        891 non-null    int64  \n",
            " 7   Parch        891 non-null    int64  \n",
            " 8   Ticket       891 non-null    object \n",
            " 9   Fare         891 non-null    float64\n",
            " 10  Cabin        204 non-null    object \n",
            " 11  Embarked     889 non-null    object \n",
            "dtypes: float64(2), int64(5), object(5)\n",
            "memory usage: 83.7+ KB\n"
          ]
        }
      ],
      "source": [
        "train_data.info()"
      ]
    },
    {
      "cell_type": "code",
      "execution_count": 15,
      "id": "bb0517bb",
      "metadata": {
        "execution": {
          "iopub.execute_input": "2022-06-03T14:17:31.637947Z",
          "iopub.status.busy": "2022-06-03T14:17:31.637132Z",
          "iopub.status.idle": "2022-06-03T14:17:31.644956Z",
          "shell.execute_reply": "2022-06-03T14:17:31.643762Z"
        },
        "papermill": {
          "duration": 0.021303,
          "end_time": "2022-06-03T14:17:31.647108",
          "exception": false,
          "start_time": "2022-06-03T14:17:31.625805",
          "status": "completed"
        },
        "tags": [],
        "colab": {
          "base_uri": "https://localhost:8080/"
        },
        "id": "bb0517bb",
        "outputId": "02819158-3750-4845-c63d-92d2608611e1"
      },
      "outputs": [
        {
          "output_type": "stream",
          "name": "stdout",
          "text": [
            "Number of Training = 891\n"
          ]
        },
        {
          "output_type": "execute_result",
          "data": {
            "text/plain": [
              "Index(['PassengerId', 'Survived', 'Pclass', 'Name', 'Sex', 'Age', 'SibSp',\n",
              "       'Parch', 'Ticket', 'Fare', 'Cabin', 'Embarked'],\n",
              "      dtype='object')"
            ]
          },
          "metadata": {},
          "execution_count": 15
        }
      ],
      "source": [
        "print('Number of Training = {}'.format(train_data.shape[0]))\n",
        "\n",
        "#target columns\n",
        "train_data.columns"
      ]
    },
    {
      "cell_type": "code",
      "execution_count": 16,
      "id": "25038662",
      "metadata": {
        "execution": {
          "iopub.execute_input": "2022-06-03T14:17:31.669763Z",
          "iopub.status.busy": "2022-06-03T14:17:31.668883Z",
          "iopub.status.idle": "2022-06-03T14:17:31.677296Z",
          "shell.execute_reply": "2022-06-03T14:17:31.676578Z"
        },
        "papermill": {
          "duration": 0.021563,
          "end_time": "2022-06-03T14:17:31.679083",
          "exception": false,
          "start_time": "2022-06-03T14:17:31.657520",
          "status": "completed"
        },
        "tags": [],
        "colab": {
          "base_uri": "https://localhost:8080/"
        },
        "id": "25038662",
        "outputId": "cdcd4ad2-f403-4dc2-d08e-1f9a31dc4e1e"
      },
      "outputs": [
        {
          "output_type": "execute_result",
          "data": {
            "text/plain": [
              "PassengerId      0\n",
              "Survived         0\n",
              "Pclass           0\n",
              "Name             0\n",
              "Sex              0\n",
              "Age            177\n",
              "SibSp            0\n",
              "Parch            0\n",
              "Ticket           0\n",
              "Fare             0\n",
              "Cabin          687\n",
              "Embarked         2\n",
              "dtype: int64"
            ]
          },
          "metadata": {},
          "execution_count": 16
        }
      ],
      "source": [
        "#check for null values\n",
        "\n",
        "train_data.isnull().sum()"
      ]
    },
    {
      "cell_type": "code",
      "source": [
        "\n",
        "sns.heatmap(train_data.isnull(), cbar = False).set_title(\"Missing values heatmap\")"
      ],
      "metadata": {
        "colab": {
          "base_uri": "https://localhost:8080/",
          "height": 349
        },
        "id": "0hnaBw8jeNNx",
        "outputId": "dd712dac-261b-413f-dd9e-0edbb0c2eaa0"
      },
      "id": "0hnaBw8jeNNx",
      "execution_count": 53,
      "outputs": [
        {
          "output_type": "execute_result",
          "data": {
            "text/plain": [
              "Text(0.5, 1.0, 'Missing values heatmap')"
            ]
          },
          "metadata": {},
          "execution_count": 53
        },
        {
          "output_type": "display_data",
          "data": {
            "text/plain": [
              "<Figure size 432x288 with 1 Axes>"
            ],
            "image/png": "[encoded data removed]"
          },
          "metadata": {
            "needs_background": "light"
          }
        }
      ]
    },
    {
      "cell_type": "markdown",
      "id": "e8543647",
      "metadata": {
        "papermill": {
          "duration": 0.010034,
          "end_time": "2022-06-03T14:17:31.699706",
          "exception": false,
          "start_time": "2022-06-03T14:17:31.689672",
          "status": "completed"
        },
        "tags": [],
        "id": "e8543647"
      },
      "source": [
        "**Look at numeric and categorical values separately:**\n",
        "\n",
        "Numerical Features: Age, Fare, SibSp, Parch.\n",
        "\n",
        "Categorical Features: Survived, Sex, Embarked, Pclass.\n",
        "\n",
        "Alphanumeric Features (but categorical): Ticket, Cabin.\n",
        "\n",
        "you will notice that:\n",
        "\n",
        "- Tickets and Cabin are features with a high cardinality, and a lot of distinc values. \n",
        "- Age and Cabin has a lot of missing values.\n",
        "- Name and ID has unique values.\n",
        "- SibSp, Parch and Fare has a lot of zeros. "
      ]
    },
    {
      "cell_type": "markdown",
      "source": [
        "Embarked implies where the traveler mounted from. There are three possible values for Embark — Southampton, Cherbourg, and Queenstown. More than 70% of the people boarded from Southampton. Just under 20% boarded from Cherbourg and the rest boarded from Queenstown. People who boarded from Cherbourg had a higher chance of survival than people who boarded from Southampton or Queenstown."
      ],
      "metadata": {
        "id": "rHYAlddSfWeN"
      },
      "id": "rHYAlddSfWeN"
    },
    {
      "cell_type": "code",
      "execution_count": 17,
      "id": "0155103f",
      "metadata": {
        "execution": {
          "iopub.execute_input": "2022-06-03T14:17:31.722432Z",
          "iopub.status.busy": "2022-06-03T14:17:31.721732Z",
          "iopub.status.idle": "2022-06-03T14:17:31.864482Z",
          "shell.execute_reply": "2022-06-03T14:17:31.863483Z"
        },
        "papermill": {
          "duration": 0.156501,
          "end_time": "2022-06-03T14:17:31.866624",
          "exception": false,
          "start_time": "2022-06-03T14:17:31.710123",
          "status": "completed"
        },
        "tags": [],
        "colab": {
          "base_uri": "https://localhost:8080/",
          "height": 296
        },
        "id": "0155103f",
        "outputId": "89e7f811-7b58-4848-ae8a-861c6e3e1708"
      },
      "outputs": [
        {
          "output_type": "execute_result",
          "data": {
            "text/plain": [
              "<matplotlib.axes._subplots.AxesSubplot at 0x7ff851945150>"
            ]
          },
          "metadata": {},
          "execution_count": 17
        },
        {
          "output_type": "display_data",
          "data": {
            "text/plain": [
              "<Figure size 432x288 with 1 Axes>"
            ],
            "image/png": "[encoded data removed]"
          },
          "metadata": {
            "needs_background": "light"
          }
        }
      ],
      "source": [
        "##How many people survived?\n",
        "\n",
        "sns.countplot(x=\"Survived\" , data=train_data)\n"
      ]
    },
    {
      "cell_type": "code",
      "execution_count": 19,
      "id": "4e741129",
      "metadata": {
        "execution": {
          "iopub.execute_input": "2022-06-03T14:17:31.890925Z",
          "iopub.status.busy": "2022-06-03T14:17:31.890190Z",
          "iopub.status.idle": "2022-06-03T14:17:32.003575Z",
          "shell.execute_reply": "2022-06-03T14:17:32.002819Z"
        },
        "papermill": {
          "duration": 0.12788,
          "end_time": "2022-06-03T14:17:32.005638",
          "exception": false,
          "start_time": "2022-06-03T14:17:31.877758",
          "status": "completed"
        },
        "tags": [],
        "colab": {
          "base_uri": "https://localhost:8080/",
          "height": 296
        },
        "id": "4e741129",
        "outputId": "49be1a71-082c-4557-a380-617ee5889b4e"
      },
      "outputs": [
        {
          "output_type": "execute_result",
          "data": {
            "text/plain": [
              "<matplotlib.axes._subplots.AxesSubplot at 0x7ff850d00410>"
            ]
          },
          "metadata": {},
          "execution_count": 19
        },
        {
          "output_type": "display_data",
          "data": {
            "text/plain": [
              "<Figure size 432x288 with 1 Axes>"
            ],
            "image/png": "[encoded data removed]"
          },
          "metadata": {
            "needs_background": "light"
          }
        }
      ],
      "source": [
        "# Feature Embarked\n",
        "\n",
        "sns.countplot(x=\"Embarked\" , data=train_data)\n",
        "\n",
        "# Embarked is a nominal feature"
      ]
    },
    {
      "cell_type": "code",
      "execution_count": 18,
      "id": "8395997b",
      "metadata": {
        "execution": {
          "iopub.execute_input": "2022-06-03T14:17:32.030872Z",
          "iopub.status.busy": "2022-06-03T14:17:32.030134Z",
          "iopub.status.idle": "2022-06-03T14:17:32.145159Z",
          "shell.execute_reply": "2022-06-03T14:17:32.144268Z"
        },
        "papermill": {
          "duration": 0.129878,
          "end_time": "2022-06-03T14:17:32.147296",
          "exception": false,
          "start_time": "2022-06-03T14:17:32.017418",
          "status": "completed"
        },
        "tags": [],
        "colab": {
          "base_uri": "https://localhost:8080/",
          "height": 298
        },
        "id": "8395997b",
        "outputId": "9b827a33-66ae-4e91-d778-2114efced6d6"
      },
      "outputs": [
        {
          "output_type": "execute_result",
          "data": {
            "text/plain": [
              "<matplotlib.axes._subplots.AxesSubplot at 0x7ff850d40550>"
            ]
          },
          "metadata": {},
          "execution_count": 18
        },
        {
          "output_type": "display_data",
          "data": {
            "text/plain": [
              "<Figure size 432x288 with 1 Axes>"
            ],
            "image/png": "[encoded data removed]"
          },
          "metadata": {
            "needs_background": "light"
          }
        }
      ],
      "source": [
        "# Feature Sex\n",
        "\n",
        "sns.countplot(x=\"Sex\" , data=train_data)\n",
        "\n",
        "# Sex is nominal feature"
      ]
    },
    {
      "cell_type": "code",
      "execution_count": 20,
      "id": "10079e67",
      "metadata": {
        "execution": {
          "iopub.execute_input": "2022-06-03T14:17:32.173226Z",
          "iopub.status.busy": "2022-06-03T14:17:32.172165Z",
          "iopub.status.idle": "2022-06-03T14:17:32.279178Z",
          "shell.execute_reply": "2022-06-03T14:17:32.278462Z"
        },
        "papermill": {
          "duration": 0.122115,
          "end_time": "2022-06-03T14:17:32.281282",
          "exception": false,
          "start_time": "2022-06-03T14:17:32.159167",
          "status": "completed"
        },
        "tags": [],
        "colab": {
          "base_uri": "https://localhost:8080/",
          "height": 296
        },
        "id": "10079e67",
        "outputId": "b0d63972-4b85-48d2-bf81-c74b3abfa482"
      },
      "outputs": [
        {
          "output_type": "execute_result",
          "data": {
            "text/plain": [
              "<matplotlib.axes._subplots.AxesSubplot at 0x7ff850803350>"
            ]
          },
          "metadata": {},
          "execution_count": 20
        },
        {
          "output_type": "display_data",
          "data": {
            "text/plain": [
              "<Figure size 432x288 with 1 Axes>"
            ],
            "image/png": "[encoded data removed]"
          },
          "metadata": {
            "needs_background": "light"
          }
        }
      ],
      "source": [
        "# Feature Pclass\n",
        "\n",
        "sns.countplot(x=\"Pclass\" , data=train_data)\n",
        "\n",
        "# Pclass is ordinal feature"
      ]
    },
    {
      "cell_type": "markdown",
      "id": "43c741a1",
      "metadata": {
        "papermill": {
          "duration": 0.012495,
          "end_time": "2022-06-03T14:17:32.306205",
          "exception": false,
          "start_time": "2022-06-03T14:17:32.293710",
          "status": "completed"
        },
        "tags": [],
        "id": "43c741a1"
      },
      "source": [
        "#  Preprocessing"
      ]
    },
    {
      "cell_type": "code",
      "execution_count": 21,
      "id": "b7da2206",
      "metadata": {
        "execution": {
          "iopub.execute_input": "2022-06-03T14:17:32.333038Z",
          "iopub.status.busy": "2022-06-03T14:17:32.332408Z",
          "iopub.status.idle": "2022-06-03T14:17:32.338126Z",
          "shell.execute_reply": "2022-06-03T14:17:32.337410Z"
        },
        "papermill": {
          "duration": 0.021263,
          "end_time": "2022-06-03T14:17:32.340125",
          "exception": false,
          "start_time": "2022-06-03T14:17:32.318862",
          "status": "completed"
        },
        "tags": [],
        "id": "b7da2206"
      },
      "outputs": [],
      "source": [
        "train_copy= train_data.copy()"
      ]
    },
    {
      "cell_type": "markdown",
      "id": "238876b7",
      "metadata": {
        "papermill": {
          "duration": 0.011476,
          "end_time": "2022-06-03T14:17:32.363619",
          "exception": false,
          "start_time": "2022-06-03T14:17:32.352143",
          "status": "completed"
        },
        "tags": [],
        "id": "238876b7"
      },
      "source": [
        "##  Remove irrelevant columns"
      ]
    },
    {
      "cell_type": "code",
      "execution_count": 22,
      "id": "025321de",
      "metadata": {
        "execution": {
          "iopub.execute_input": "2022-06-03T14:17:32.389266Z",
          "iopub.status.busy": "2022-06-03T14:17:32.388359Z",
          "iopub.status.idle": "2022-06-03T14:17:32.397407Z",
          "shell.execute_reply": "2022-06-03T14:17:32.396596Z"
        },
        "papermill": {
          "duration": 0.023962,
          "end_time": "2022-06-03T14:17:32.399450",
          "exception": false,
          "start_time": "2022-06-03T14:17:32.375488",
          "status": "completed"
        },
        "tags": [],
        "id": "025321de"
      },
      "outputs": [],
      "source": [
        "irrelavant_columns=[\"Name\", \"PassengerId\",\"Ticket\"]\n",
        "train_copy.drop(irrelavant_columns, axis=1, inplace=True)"
      ]
    },
    {
      "cell_type": "markdown",
      "id": "01d32f87",
      "metadata": {
        "papermill": {
          "duration": 0.01208,
          "end_time": "2022-06-03T14:17:32.423494",
          "exception": false,
          "start_time": "2022-06-03T14:17:32.411414",
          "status": "completed"
        },
        "tags": [],
        "id": "01d32f87"
      },
      "source": [
        "# **Splitting Data**\n"
      ]
    },
    {
      "cell_type": "code",
      "execution_count": 23,
      "id": "1a03f7e9",
      "metadata": {
        "execution": {
          "iopub.execute_input": "2022-06-03T14:17:32.449477Z",
          "iopub.status.busy": "2022-06-03T14:17:32.449089Z",
          "iopub.status.idle": "2022-06-03T14:17:32.455411Z",
          "shell.execute_reply": "2022-06-03T14:17:32.454654Z"
        },
        "papermill": {
          "duration": 0.021747,
          "end_time": "2022-06-03T14:17:32.457451",
          "exception": false,
          "start_time": "2022-06-03T14:17:32.435704",
          "status": "completed"
        },
        "tags": [],
        "id": "1a03f7e9"
      },
      "outputs": [],
      "source": [
        "# Split the data into predictors and target\n",
        "X = train_copy.drop(['Survived'], axis = 1)\n",
        "X_test = test_data.drop(irrelavant_columns, axis = 1)\n",
        "Y= train_data['Survived']"
      ]
    },
    {
      "cell_type": "code",
      "execution_count": 24,
      "id": "0b7a5371",
      "metadata": {
        "execution": {
          "iopub.execute_input": "2022-06-03T14:17:32.483317Z",
          "iopub.status.busy": "2022-06-03T14:17:32.482660Z",
          "iopub.status.idle": "2022-06-03T14:17:32.492339Z",
          "shell.execute_reply": "2022-06-03T14:17:32.491619Z"
        },
        "papermill": {
          "duration": 0.024841,
          "end_time": "2022-06-03T14:17:32.494308",
          "exception": false,
          "start_time": "2022-06-03T14:17:32.469467",
          "status": "completed"
        },
        "tags": [],
        "id": "0b7a5371"
      },
      "outputs": [],
      "source": [
        "X_train, X_val, Y_train, Y_val= train_test_split(X,Y, test_size=0.3, random_state=21, stratify=Y)"
      ]
    },
    {
      "cell_type": "markdown",
      "id": "70845dfd",
      "metadata": {
        "papermill": {
          "duration": 0.011575,
          "end_time": "2022-06-03T14:17:32.517866",
          "exception": false,
          "start_time": "2022-06-03T14:17:32.506291",
          "status": "completed"
        },
        "tags": [],
        "id": "70845dfd"
      },
      "source": [
        "#  Numerical features handling\n"
      ]
    },
    {
      "cell_type": "code",
      "execution_count": 25,
      "id": "5ddd3399",
      "metadata": {
        "execution": {
          "iopub.execute_input": "2022-06-03T14:17:32.543773Z",
          "iopub.status.busy": "2022-06-03T14:17:32.543156Z",
          "iopub.status.idle": "2022-06-03T14:17:32.547886Z",
          "shell.execute_reply": "2022-06-03T14:17:32.547276Z"
        },
        "papermill": {
          "duration": 0.019988,
          "end_time": "2022-06-03T14:17:32.549816",
          "exception": false,
          "start_time": "2022-06-03T14:17:32.529828",
          "status": "completed"
        },
        "tags": [],
        "id": "5ddd3399"
      },
      "outputs": [],
      "source": [
        "# create a pipline for the numeric features\n",
        "\n",
        "# Difine a list with the numeric features\n",
        "numeric_features = ['Age', 'Fare','SibSp','Parch']\n",
        "# Define a pipeline for numer\"ic features\n",
        "numeric_features_pipeline = Pipeline(steps= [\n",
        "    ('imputer', SimpleImputer(strategy = 'median')), # Impute with median value for missing\n",
        "    ('scaler', StandardScaler())                     # Conduct a scaling step\n",
        "])"
      ]
    },
    {
      "cell_type": "markdown",
      "id": "d1a2463a",
      "metadata": {
        "papermill": {
          "duration": 0.011733,
          "end_time": "2022-06-03T14:17:32.573431",
          "exception": false,
          "start_time": "2022-06-03T14:17:32.561698",
          "status": "completed"
        },
        "tags": [],
        "id": "d1a2463a"
      },
      "source": [
        "# Categorical features handling\n"
      ]
    },
    {
      "cell_type": "code",
      "execution_count": 26,
      "id": "2730a699",
      "metadata": {
        "execution": {
          "iopub.execute_input": "2022-06-03T14:17:32.599136Z",
          "iopub.status.busy": "2022-06-03T14:17:32.598528Z",
          "iopub.status.idle": "2022-06-03T14:17:32.603384Z",
          "shell.execute_reply": "2022-06-03T14:17:32.602669Z"
        },
        "papermill": {
          "duration": 0.01999,
          "end_time": "2022-06-03T14:17:32.605379",
          "exception": false,
          "start_time": "2022-06-03T14:17:32.585389",
          "status": "completed"
        },
        "tags": [],
        "id": "2730a699"
      },
      "outputs": [],
      "source": [
        "#  create a pipline for the categorical features\n",
        "# Difine a list with the categorical features\n",
        "categorical_features = ['Embarked', 'Sex']\n",
        "# Define a pipeline for categorical features\n",
        "categorical_features_pipeline = Pipeline(steps=[\n",
        "    ('imputer', SimpleImputer(strategy='constant', fill_value = 'missing')), # Impute with the word 'missing' for missing values\n",
        "    ('onehot', OneHotEncoder(handle_unknown = 'ignore'))     # Convert all categorical variables to one hot encoding\n",
        "])"
      ]
    },
    {
      "cell_type": "markdown",
      "id": "af4171fb",
      "metadata": {
        "papermill": {
          "duration": 0.011625,
          "end_time": "2022-06-03T14:17:32.628833",
          "exception": false,
          "start_time": "2022-06-03T14:17:32.617208",
          "status": "completed"
        },
        "tags": [],
        "id": "af4171fb"
      },
      "source": [
        "# **Ordinal features handling**\n"
      ]
    },
    {
      "cell_type": "code",
      "source": [
        ""
      ],
      "metadata": {
        "id": "Qb6aT0v7gc74"
      },
      "id": "Qb6aT0v7gc74",
      "execution_count": null,
      "outputs": []
    },
    {
      "cell_type": "code",
      "execution_count": 27,
      "id": "5f7ad4ec",
      "metadata": {
        "execution": {
          "iopub.execute_input": "2022-06-03T14:17:32.654419Z",
          "iopub.status.busy": "2022-06-03T14:17:32.653991Z",
          "iopub.status.idle": "2022-06-03T14:17:32.659186Z",
          "shell.execute_reply": "2022-06-03T14:17:32.658297Z"
        },
        "papermill": {
          "duration": 0.020261,
          "end_time": "2022-06-03T14:17:32.661136",
          "exception": false,
          "start_time": "2022-06-03T14:17:32.640875",
          "status": "completed"
        },
        "tags": [],
        "id": "5f7ad4ec"
      },
      "outputs": [],
      "source": [
        "# create a pipline for the ordinal features\n",
        "# Define a list with the ordinal features\n",
        "ordinal_features = ['Pclass']\n",
        "# Define a pipline for ordinal features \n",
        "ordinal_features_pipeline = Pipeline(steps=[\n",
        "    ('ordinal', OrdinalEncoder(categories= [[1, 2, 3]]))\n",
        "])"
      ]
    },
    {
      "cell_type": "markdown",
      "id": "bd584cd7",
      "metadata": {
        "papermill": {
          "duration": 0.011428,
          "end_time": "2022-06-03T14:17:32.684495",
          "exception": false,
          "start_time": "2022-06-03T14:17:32.673067",
          "status": "completed"
        },
        "tags": [],
        "id": "bd584cd7"
      },
      "source": [
        "# **Construct a comprehended preprocessor**\n",
        "create a preprocessor that can handle all columns in our dataset using ColumnTransformer"
      ]
    },
    {
      "cell_type": "code",
      "execution_count": 28,
      "id": "ebc7a7bd",
      "metadata": {
        "execution": {
          "iopub.execute_input": "2022-06-03T14:17:32.709534Z",
          "iopub.status.busy": "2022-06-03T14:17:32.709117Z",
          "iopub.status.idle": "2022-06-03T14:17:32.714833Z",
          "shell.execute_reply": "2022-06-03T14:17:32.713898Z"
        },
        "papermill": {
          "duration": 0.020608,
          "end_time": "2022-06-03T14:17:32.716897",
          "exception": false,
          "start_time": "2022-06-03T14:17:32.696289",
          "status": "completed"
        },
        "tags": [],
        "id": "ebc7a7bd"
      },
      "outputs": [],
      "source": [
        "# create a transformer to handle all columns\n",
        "preprocessor = ColumnTransformer(transformers= [\n",
        "    # transformer with name 'num' that will apply\n",
        "    # 'numeric_features_pipeline' to numeric_features\n",
        "    ('num', numeric_features_pipeline, numeric_features),\n",
        "    \n",
        "    # transformer with name 'cat' that will apply \n",
        "    # 'categorical_features_pipeline' to categorical_features\n",
        "    ('cat', categorical_features_pipeline, categorical_features),\n",
        "    \n",
        "    # transformer with name 'ord' that will apply \n",
        "    # 'ordinal_features_pipeline' to ordinal_features\n",
        "    ('ord', ordinal_features_pipeline, ordinal_features) \n",
        "    ])"
      ]
    },
    {
      "cell_type": "markdown",
      "id": "cd190921",
      "metadata": {
        "papermill": {
          "duration": 0.011468,
          "end_time": "2022-06-03T14:17:32.740318",
          "exception": false,
          "start_time": "2022-06-03T14:17:32.728850",
          "status": "completed"
        },
        "tags": [],
        "id": "cd190921"
      },
      "source": [
        "# **Prediction Pipeline**\n"
      ]
    },
    {
      "cell_type": "code",
      "execution_count": 29,
      "id": "c067265b",
      "metadata": {
        "execution": {
          "iopub.execute_input": "2022-06-03T14:17:32.765771Z",
          "iopub.status.busy": "2022-06-03T14:17:32.765337Z",
          "iopub.status.idle": "2022-06-03T14:17:32.769947Z",
          "shell.execute_reply": "2022-06-03T14:17:32.769033Z"
        },
        "papermill": {
          "duration": 0.019562,
          "end_time": "2022-06-03T14:17:32.771775",
          "exception": false,
          "start_time": "2022-06-03T14:17:32.752213",
          "status": "completed"
        },
        "tags": [],
        "id": "c067265b"
      },
      "outputs": [],
      "source": [
        "clf=Pipeline(steps=[('preprocessor', preprocessor),\n",
        "                     ('classifier', LogisticRegression())])"
      ]
    },
    {
      "cell_type": "markdown",
      "id": "7e0f1275",
      "metadata": {
        "papermill": {
          "duration": 0.011969,
          "end_time": "2022-06-03T14:17:32.795745",
          "exception": false,
          "start_time": "2022-06-03T14:17:32.783776",
          "status": "completed"
        },
        "tags": [],
        "id": "7e0f1275"
      },
      "source": [
        "# **Pipeline Training**"
      ]
    },
    {
      "cell_type": "code",
      "execution_count": 30,
      "id": "6243f7a0",
      "metadata": {
        "execution": {
          "iopub.execute_input": "2022-06-03T14:17:32.821541Z",
          "iopub.status.busy": "2022-06-03T14:17:32.821117Z",
          "iopub.status.idle": "2022-06-03T14:17:32.895071Z",
          "shell.execute_reply": "2022-06-03T14:17:32.894323Z"
        },
        "papermill": {
          "duration": 0.089204,
          "end_time": "2022-06-03T14:17:32.897132",
          "exception": false,
          "start_time": "2022-06-03T14:17:32.807928",
          "status": "completed"
        },
        "tags": [],
        "colab": {
          "base_uri": "https://localhost:8080/"
        },
        "id": "6243f7a0",
        "outputId": "297047b5-f660-4fe7-898c-6cc2e27546fd"
      },
      "outputs": [
        {
          "output_type": "execute_result",
          "data": {
            "text/plain": [
              "Pipeline(steps=[('preprocessor',\n",
              "                 ColumnTransformer(transformers=[('num',\n",
              "                                                  Pipeline(steps=[('imputer',\n",
              "                                                                   SimpleImputer(strategy='median')),\n",
              "                                                                  ('scaler',\n",
              "                                                                   StandardScaler())]),\n",
              "                                                  ['Age', 'Fare', 'SibSp',\n",
              "                                                   'Parch']),\n",
              "                                                 ('cat',\n",
              "                                                  Pipeline(steps=[('imputer',\n",
              "                                                                   SimpleImputer(fill_value='missing',\n",
              "                                                                                 strategy='constant')),\n",
              "                                                                  ('onehot',\n",
              "                                                                   OneHotEncoder(handle_unknown='ignore'))]),\n",
              "                                                  ['Embarked', 'Sex']),\n",
              "                                                 ('ord',\n",
              "                                                  Pipeline(steps=[('ordinal',\n",
              "                                                                   OrdinalEncoder(categories=[[1,\n",
              "                                                                                               2,\n",
              "                                                                                               3]]))]),\n",
              "                                                  ['Pclass'])])),\n",
              "                ('classifier', LogisticRegression())])"
            ]
          },
          "metadata": {},
          "execution_count": 30
        }
      ],
      "source": [
        "# fit our classifier\n",
        "clf.fit(X_train, Y_train)"
      ]
    },
    {
      "cell_type": "code",
      "execution_count": 31,
      "id": "911c89e5",
      "metadata": {
        "execution": {
          "iopub.execute_input": "2022-06-03T14:17:32.924650Z",
          "iopub.status.busy": "2022-06-03T14:17:32.923576Z",
          "iopub.status.idle": "2022-06-03T14:17:32.938555Z",
          "shell.execute_reply": "2022-06-03T14:17:32.937351Z"
        },
        "papermill": {
          "duration": 0.031245,
          "end_time": "2022-06-03T14:17:32.940872",
          "exception": false,
          "start_time": "2022-06-03T14:17:32.909627",
          "status": "completed"
        },
        "tags": [],
        "id": "911c89e5"
      },
      "outputs": [],
      "source": [
        "pred = clf.predict(X_val)"
      ]
    },
    {
      "cell_type": "code",
      "execution_count": 32,
      "id": "22ade434",
      "metadata": {
        "execution": {
          "iopub.execute_input": "2022-06-03T14:17:32.966880Z",
          "iopub.status.busy": "2022-06-03T14:17:32.966456Z",
          "iopub.status.idle": "2022-06-03T14:17:32.974517Z",
          "shell.execute_reply": "2022-06-03T14:17:32.973546Z"
        },
        "papermill": {
          "duration": 0.0233,
          "end_time": "2022-06-03T14:17:32.976449",
          "exception": false,
          "start_time": "2022-06-03T14:17:32.953149",
          "status": "completed"
        },
        "tags": [],
        "colab": {
          "base_uri": "https://localhost:8080/"
        },
        "id": "22ade434",
        "outputId": "aa09eedd-77fd-4bc8-ff22-a1b968cf0a0e"
      },
      "outputs": [
        {
          "output_type": "execute_result",
          "data": {
            "text/plain": [
              "79.85"
            ]
          },
          "metadata": {},
          "execution_count": 32
        }
      ],
      "source": [
        "acc=round(accuracy_score(pred, Y_val)*100,2)\n",
        "acc"
      ]
    },
    {
      "cell_type": "markdown",
      "id": "9be744e8",
      "metadata": {
        "papermill": {
          "duration": 0.011718,
          "end_time": "2022-06-03T14:17:33.000538",
          "exception": false,
          "start_time": "2022-06-03T14:17:32.988820",
          "status": "completed"
        },
        "tags": [],
        "id": "9be744e8"
      },
      "source": [
        "# **Generate Predictions**\n"
      ]
    },
    {
      "cell_type": "code",
      "execution_count": 39,
      "id": "34aa8ee8",
      "metadata": {
        "execution": {
          "iopub.execute_input": "2022-06-03T14:17:33.026849Z",
          "iopub.status.busy": "2022-06-03T14:17:33.026429Z",
          "iopub.status.idle": "2022-06-03T14:17:33.045757Z",
          "shell.execute_reply": "2022-06-03T14:17:33.045018Z"
        },
        "papermill": {
          "duration": 0.035107,
          "end_time": "2022-06-03T14:17:33.047997",
          "exception": false,
          "start_time": "2022-06-03T14:17:33.012890",
          "status": "completed"
        },
        "tags": [],
        "id": "34aa8ee8"
      },
      "outputs": [],
      "source": [
        "# Generate predictions\n",
        "predictions = clf.predict(X_test)\n",
        "# Generate results dataframe\n",
        "results_df = pd.DataFrame({'PassengerId': test_data.PassengerId, 'Survived': predictions})\n",
        "# Save to csv file\n",
        "results_df.to_csv('submission.csv', index = False)\n"
      ]
    },
    {
      "cell_type": "code",
      "source": [
        "print(X_test.head(1))"
      ],
      "metadata": {
        "colab": {
          "base_uri": "https://localhost:8080/"
        },
        "id": "mczTeNlwUg6Y",
        "outputId": "a00179a4-8dde-4c07-826b-1a3d24b47efc"
      },
      "id": "mczTeNlwUg6Y",
      "execution_count": 45,
      "outputs": [
        {
          "output_type": "stream",
          "name": "stdout",
          "text": [
            "   Pclass   Sex   Age  SibSp  Parch    Fare Cabin Embarked\n",
            "0       3  male  34.5      0      0  7.8292   NaN        Q\n"
          ]
        }
      ]
    },
    {
      "cell_type": "code",
      "execution_count": 50,
      "id": "9891d2f1",
      "metadata": {
        "papermill": {
          "duration": 0.011787,
          "end_time": "2022-06-03T14:17:33.072167",
          "exception": false,
          "start_time": "2022-06-03T14:17:33.060380",
          "status": "completed"
        },
        "tags": [],
        "id": "9891d2f1"
      },
      "outputs": [],
      "source": [
        "new_person =clf.predict(X_test.head(1))"
      ]
    },
    {
      "cell_type": "code",
      "source": [
        "new_person"
      ],
      "metadata": {
        "colab": {
          "base_uri": "https://localhost:8080/"
        },
        "id": "jm3zf6WiYdGH",
        "outputId": "ea81fef7-f7eb-481e-8381-6c5970f8b637"
      },
      "id": "jm3zf6WiYdGH",
      "execution_count": 49,
      "outputs": [
        {
          "output_type": "execute_result",
          "data": {
            "text/plain": [
              "array([0, 0, 0, 0])"
            ]
          },
          "metadata": {},
          "execution_count": 49
        }
      ]
    },
    {
      "cell_type": "code",
      "source": [
        ""
      ],
      "metadata": {
        "id": "yvzPeYewYhxK"
      },
      "id": "yvzPeYewYhxK",
      "execution_count": null,
      "outputs": []
    },
    {
      "cell_type": "code",
      "execution_count": null,
      "id": "941fedd1",
      "metadata": {
        "id": "941fedd1"
      },
      "outputs": [],
      "source": [
        ""
      ]
    }
  ],
  "metadata": {
    "kernelspec": {
      "display_name": "Python 3",
      "language": "python",
      "name": "python3"
    },
    "language_info": {
      "codemirror_mode": {
        "name": "ipython",
        "version": 3
      },
      "file_extension": ".py",
      "mimetype": "text/x-python",
      "name": "python",
      "nbconvert_exporter": "python",
      "pygments_lexer": "ipython3",
      "version": "3.8.8"
    },
    "papermill": {
      "default_parameters": {},
      "duration": 14.165913,
      "end_time": "2022-06-03T14:17:33.805687",
      "environment_variables": {},
      "exception": null,
      "input_path": "__notebook__.ipynb",
      "output_path": "__notebook__.ipynb",
      "parameters": {},
      "start_time": "2022-06-03T14:17:19.639774",
      "version": "2.3.4"
    },
    "colab": {
      "name": "titanic-machine-learning-from-disaster.ipynb",
      "provenance": [],
      "toc_visible": true
    }
  },
  "nbformat": 4,
  "nbformat_minor": 5
}